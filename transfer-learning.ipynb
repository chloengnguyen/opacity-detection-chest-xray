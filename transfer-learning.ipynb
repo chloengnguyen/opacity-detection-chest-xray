{
 "cells": [
  {
   "cell_type": "code",
   "execution_count": 1,
   "metadata": {},
   "outputs": [],
   "source": [
    "import glob\n",
    "import random as rn\n",
    "import numpy as np\n",
    "import pandas as pd\n",
    "import matplotlib.pyplot as plt\n",
    "import seaborn as sns\n",
    "import cv2\n",
    "import os\n",
    "\n",
    "from sklearn.utils import resample\n",
    "from keras.models import Sequential\n",
    "from keras.layers import Dense, SeparableConv2D, Conv2D, MaxPooling2D,GlobalAveragePooling2D,MaxPool2D, Flatten, Dropout, BatchNormalization\n",
    "from keras.callbacks import ModelCheckpoint, ReduceLROnPlateau, EarlyStopping # prevent overfitting\n",
    "from keras.preprocessing.image import ImageDataGenerator\n",
    "from keras.optimizers import RMSprop, Adam\n",
    "from keras.utils import to_categorical\n",
    "from sklearn.metrics import classification_report, confusion_matrix\n",
    "from sklearn.model_selection import train_test_split\n",
    "from keras.callbacks import LearningRateScheduler\n",
    "from sklearn.metrics import auc, roc_curve\n",
    "from keras.regularizers import l2\n",
    "from keras.applications.vgg19 import VGG19\n",
    "from keras.applications.densenet import DenseNet121\n",
    "from keras.models import Model\n",
    "import tensorflow as tf\n",
    "#from imblearn.over_sampling import SMOTE\n",
    "\n",
    "\n",
    "\n",
    "%matplotlib inline\n",
    "import warnings\n",
    "warnings.filterwarnings('ignore')"
   ]
  },
  {
   "cell_type": "code",
   "execution_count": 2,
   "metadata": {},
   "outputs": [],
   "source": [
    "# main path\n",
    "path = 'data/chest_xray/'\n",
    "\n",
    "# define paths\n",
    "train_normal_dir = path + 'train/NORMAL/'\n",
    "train_pneu_dir = path + 'train/PNEUMONIA/'\n",
    "\n",
    "test_normal_dir = path + 'test/NORMAL/'\n",
    "test_pneu_dir = path + 'test/PNEUMONIA/'\n",
    "\n",
    "val_normal_dir = path + 'val/NORMAL/'\n",
    "val_pneu_dir = path + 'val/PNEUMONIA/'\n",
    "\n",
    "\n",
    "# find all files, our files has extension jpeg\n",
    "train_normal_cases = glob.glob(train_normal_dir + '*jpeg')\n",
    "train_pneu_cases = glob.glob(train_pneu_dir + '*jpeg')\n",
    "\n",
    "test_normal_cases = glob.glob(test_normal_dir + '*jpeg')\n",
    "test_pneu_cases = glob.glob(test_pneu_dir + '*jpeg')\n",
    "\n",
    "val_normal_cases = glob.glob(val_normal_dir + '*jpeg')\n",
    "val_pneu_cases = glob.glob(val_pneu_dir + '*jpeg')\n",
    "\n",
    "\n",
    "# make path using / instead of \\\\ ... this may be redudant step\n",
    "train_normal_cases = [x.replace('\\\\', '/') for x in train_normal_cases]\n",
    "train_pneu_cases = [x.replace('\\\\', '/') for x in train_pneu_cases]\n",
    "test_normal_cases = [x.replace('\\\\', '/') for x in test_normal_cases]\n",
    "test_pneu_cases = [x.replace('\\\\', '/') for x in test_pneu_cases]\n",
    "val_normal_cases = [x.replace('\\\\', '/') for x in val_normal_cases]\n",
    "val_pneu_cases = [x.replace('\\\\', '/') for x in val_pneu_cases]\n",
    "\n",
    "\n",
    "# create lists for train, test & validation cases, create labels as well\n",
    "train_list = []\n",
    "test_list = []\n",
    "val_list = []\n",
    "\n",
    "# 0 is normal and 1 is pneumonia \n",
    "for x in train_normal_cases:\n",
    "    train_list.append([x, 0])\n",
    "    \n",
    "for x in train_pneu_cases:\n",
    "    train_list.append([x, 1])\n",
    "    \n",
    "for x in test_normal_cases:\n",
    "    test_list.append([x, 0])\n",
    "    \n",
    "for x in test_pneu_cases:\n",
    "    test_list.append([x, 1])\n",
    "    \n",
    "for x in val_normal_cases:\n",
    "    val_list.append([x, 0])\n",
    "    \n",
    "for x in val_pneu_cases:\n",
    "    val_list.append([x, 1])\n",
    "\n",
    "\n",
    "# shuffle/randomize data as they were loaded in order: normal cases, then pneumonia cases\n",
    "rn.shuffle(train_list)\n",
    "rn.shuffle(test_list)\n",
    "rn.shuffle(val_list)\n",
    "\n",
    "\n",
    "# create dataframes\n",
    "train_df = pd.DataFrame(train_list, columns=['image', 'class'])\n",
    "test_df = pd.DataFrame(test_list, columns=['image', 'class'])\n",
    "val_df = pd.DataFrame(val_list, columns=['image', 'class'])"
   ]
  },
  {
   "cell_type": "code",
   "execution_count": 3,
   "metadata": {},
   "outputs": [
    {
     "data": {
      "image/png": "[encoded data removed]",
      "text/plain": [
       "<Figure size 1440x360 with 3 Axes>"
      ]
     },
     "metadata": {
      "needs_background": "light"
     },
     "output_type": "display_data"
    }
   ],
   "source": [
    "plt.figure(figsize=(20,5))\n",
    "\n",
    "plt.subplot(1,3,1)\n",
    "sns.countplot(train_df['class'])\n",
    "plt.title('Train data')\n",
    "\n",
    "plt.subplot(1,3,2)\n",
    "sns.countplot(test_df['class'])\n",
    "plt.title('Test data')\n",
    "\n",
    "plt.subplot(1,3,3)\n",
    "sns.countplot(val_df['class'])\n",
    "plt.title('Validation data')\n",
    "\n",
    "plt.show()"
   ]
  },
  {
   "cell_type": "code",
   "execution_count": 4,
   "metadata": {},
   "outputs": [],
   "source": [
    "comb_df = pd.concat([train_df,val_df])\n",
    "train_df_, val_df_ = train_test_split(comb_df, test_size = 0.1)\n",
    "def balance(df):\n",
    "    major = df[df['class'] == 1]\n",
    "    minor = df[df['class'] == 0]\n",
    "    minor_oversampled  = resample(minor,\n",
    "                                 replace = True,\n",
    "                                 n_samples = round(major['class'].value_counts()[1]*0.8),\n",
    "                                 random_state = 42)\n",
    "    combined_df = pd.concat([major, minor_oversampled])\n",
    "    return combined_df\n",
    "train_df = balance(train_df_)\n",
    "val_df = balance(val_df_)"
   ]
  },
  {
   "cell_type": "code",
   "execution_count": 5,
   "metadata": {},
   "outputs": [],
   "source": [
    "# pre-process & normalize image\n",
    "def process_data_(img_path):\n",
    "    img = cv2.imread(img_path)\n",
    "    img = cv2.resize(img, (320, 320))\n",
    "    #img = cv2.cvtColor(img, cv2.COLOR_BGR2GRAY)\n",
    "    #img = cv2.cvtColor(img,cv2.COLOR_GRAY2RGB)\n",
    "    img = img/255.0\n",
    "    img = np.reshape(img, (320, 320,-1))\n",
    "    img = tf.convert_to_tensor(img[:,:,:3])\n",
    "\n",
    "    \n",
    "    return img\n",
    "\n",
    "# write a function to split img and label into 2 separate numpy arrays\n",
    "def compose_dataset_(df):\n",
    "    img = []\n",
    "    labels = []\n",
    "\n",
    "    for img_path, label in df.values:\n",
    "        img.append(process_data_(img_path))\n",
    "        labels.append(label)\n",
    "        \n",
    "    return np.array(img), np.array(labels)"
   ]
  },
  {
   "cell_type": "code",
   "execution_count": 6,
   "metadata": {},
   "outputs": [
    {
     "name": "stdout",
     "output_type": "stream",
     "text": [
      "Train data shape: (6298, 320, 320, 3), Labels shape: (6298,)\n",
      "Test data shape: (624, 320, 320, 3), Labels shape: (624,)\n",
      "Validation data shape: (691, 320, 320, 3), Labels shape: (691,)\n"
     ]
    }
   ],
   "source": [
    "X_train, y_train = compose_dataset_(train_df)\n",
    "X_test, y_test = compose_dataset_(test_df)\n",
    "X_val, y_val = compose_dataset_(val_df)\n",
    "\n",
    "print('Train data shape: {}, Labels shape: {}'.format(X_train.shape, y_train.shape))\n",
    "print('Test data shape: {}, Labels shape: {}'.format(X_test.shape, y_test.shape))\n",
    "print('Validation data shape: {}, Labels shape: {}'.format(X_val.shape, y_val.shape))"
   ]
  },
  {
   "cell_type": "code",
   "execution_count": 7,
   "metadata": {},
   "outputs": [],
   "source": [
    "# define generator for traing data \n",
    "image_gen = ImageDataGenerator(\n",
    "            #samplewise_center = True, #set each sample mean to 0 \n",
    "            #samplewise_std_normalization = True, # divide each input by its std to normalize \n",
    "            #rescale = 1./255,\n",
    "            rotation_range = 30, # randomly rotate image from -30 degree to 30 degree\n",
    "            width_shift_range = 0.1, #randomly shift images horizontally\n",
    "            height_shift_range = 0.1, #randomly shift images vertically\n",
    "            shear_range = 0.1, #randomly change shear intensity\n",
    "            zoom_range = 0.2, # random zoom images\n",
    "            horizontal_flip = False, # randomly flip images\n",
    "            vertical_flip = False\n",
    ")\n",
    "\n",
    "# fit generator on our train features\n",
    "image_gen.fit(X_train)"
   ]
  },
  {
   "cell_type": "code",
   "execution_count": 8,
   "metadata": {},
   "outputs": [
    {
     "name": "stdout",
     "output_type": "stream",
     "text": [
      "Model: \"sequential\"\n",
      "_________________________________________________________________\n",
      "Layer (type)                 Output Shape              Param #   \n",
      "=================================================================\n",
      "densenet121 (Functional)     (None, 10, 10, 1024)      7037504   \n",
      "_________________________________________________________________\n",
      "global_average_pooling2d (Gl (None, 1024)              0         \n",
      "_________________________________________________________________\n",
      "dense (Dense)                (None, 128)               131200    \n",
      "_________________________________________________________________\n",
      "dense_1 (Dense)              (None, 256)               33024     \n",
      "_________________________________________________________________\n",
      "batch_normalization (BatchNo (None, 256)               1024      \n",
      "_________________________________________________________________\n",
      "dropout (Dropout)            (None, 256)               0         \n",
      "_________________________________________________________________\n",
      "dense_2 (Dense)              (None, 64)                16448     \n",
      "_________________________________________________________________\n",
      "batch_normalization_1 (Batch (None, 64)                256       \n",
      "_________________________________________________________________\n",
      "dropout_1 (Dropout)          (None, 64)                0         \n",
      "_________________________________________________________________\n",
      "dense_3 (Dense)              (None, 32)                2080      \n",
      "_________________________________________________________________\n",
      "batch_normalization_2 (Batch (None, 32)                128       \n",
      "_________________________________________________________________\n",
      "dropout_2 (Dropout)          (None, 32)                0         \n",
      "_________________________________________________________________\n",
      "dense_4 (Dense)              (None, 1)                 33        \n",
      "=================================================================\n",
      "Total params: 7,221,697\n",
      "Trainable params: 183,489\n",
      "Non-trainable params: 7,038,208\n",
      "_________________________________________________________________\n"
     ]
    }
   ],
   "source": [
    "dense = Sequential()\n",
    "dense.add(DenseNet121(include_top = False, weights = 'imagenet', input_shape = (320, 320,3)))\n",
    "#input_tensor = Input(shape=(224,224,1)\n",
    "#dense.Conv2D(3,(3,3),padding='same')(input_tensor)\n",
    "for layer in dense.layers:\n",
    "        layer.trainable = False\n",
    "dense.add(GlobalAveragePooling2D())\n",
    "dense.add(Dense(128, activation = 'relu'))\n",
    "dense.add(Dense(256, activation='relu'))\n",
    "dense.add(BatchNormalization())\n",
    "dense.add(Dropout(0.4))\n",
    "    \n",
    "dense.add(Dense(64, activation='relu'))\n",
    "    \n",
    "dense.add(BatchNormalization())\n",
    "    \n",
    "dense.add(Dropout(0.3))\n",
    "    \n",
    "dense.add(Dense(32, activation='relu'))\n",
    "    \n",
    "dense.add(BatchNormalization())\n",
    "    \n",
    "dense.add(Dropout(0.3))\n",
    "dense.add(Dense(1, activation='sigmoid'))\n",
    "\n",
    "\n",
    "#dense.add(Flatten())\n",
    "#dense.add(Dense(1, activation = 'sigmoid'))\n",
    "#dense.layers[0].trainable=False\n",
    "dense.compile(Adam(0.001), loss='binary_crossentropy', metrics=['accuracy'])\n",
    "dense.summary()"
   ]
  },
  {
   "cell_type": "code",
   "execution_count": 9,
   "metadata": {},
   "outputs": [
    {
     "data": {
      "text/plain": [
       "21"
      ]
     },
     "execution_count": 9,
     "metadata": {},
     "output_type": "execute_result"
    }
   ],
   "source": [
    "batch_size = 32\n",
    "steps_per_epoch = train_df.shape[0] // batch_size\n",
    "validation_steps = val_df.shape[0] // batch_size\n",
    "validation_steps"
   ]
  },
  {
   "cell_type": "code",
   "execution_count": 10,
   "metadata": {},
   "outputs": [],
   "source": [
    "# Callbacks\n",
    "checkpoint = ModelCheckpoint(filepath='best_weights.hdf5', save_best_only=True, save_weights_only=True)\n",
    "lr = ReduceLROnPlateau(monitor='val_loss', factor = 0.3, patience=5, verbose=2, mode='max')\n",
    "early_stop = EarlyStopping(monitor='val_loss', min_delta = 0, patience = 3, mode='min')\n"
   ]
  },
  {
   "cell_type": "code",
   "execution_count": null,
   "metadata": {},
   "outputs": [
    {
     "name": "stdout",
     "output_type": "stream",
     "text": [
      "Epoch 1/15\n",
      "196/196 [==============================] - 164s 774ms/step - loss: 0.4282 - accuracy: 0.8158 - val_loss: 0.1731 - val_accuracy: 0.9392\n",
      "Epoch 2/15\n",
      "196/196 [==============================] - 145s 736ms/step - loss: 0.2010 - accuracy: 0.9275 - val_loss: 0.0795 - val_accuracy: 0.9754\n",
      "Epoch 3/15\n",
      "196/196 [==============================] - 143s 729ms/step - loss: 0.1958 - accuracy: 0.9280 - val_loss: 0.0951 - val_accuracy: 0.9667\n",
      "Epoch 4/15\n",
      "196/196 [==============================] - 143s 728ms/step - loss: 0.1587 - accuracy: 0.9399 - val_loss: 0.1324 - val_accuracy: 0.9522\n",
      "Epoch 5/15\n",
      "196/196 [==============================] - 143s 727ms/step - loss: 0.1647 - accuracy: 0.9352 - val_loss: 0.6068 - val_accuracy: 0.7931\n",
      "Epoch 6/15\n",
      "152/196 [======================>.......] - ETA: 30s - loss: 0.1441 - accuracy: 0.9468"
     ]
    }
   ],
   "source": [
    "hist_2 = dense.fit_generator(image_gen.flow(X_train, y_train, batch_size = batch_size), #train set \n",
    "                 validation_data = (X_val, y_val), \n",
    "                 epochs = 15,\n",
    "                 steps_per_epoch = steps_per_epoch,\n",
    "                 verbose =1)\n",
    "                 #class_weight= modified_weight_)\n",
    "                 #validation_steps = 25\n",
    "                 #callbacks = [early_stop,lr])"
   ]
  },
  {
   "cell_type": "code",
   "execution_count": null,
   "metadata": {},
   "outputs": [],
   "source": [
    "fig, ax = plt.subplots(1, 2, figsize=(22, 8))\n",
    "ax = ax.ravel()\n",
    "\n",
    "for i, met in enumerate(['accuracy', 'loss']):\n",
    "    ax[i].plot(hist_2.history[met])\n",
    "    ax[i].plot(hist_2.history['val_' + met])\n",
    "    ax[i].set_title('Model {}'.format(met))\n",
    "    ax[i].set_xlabel('epochs')\n",
    "    ax[i].set_ylabel(met)\n",
    "    ax[i].legend(['train', 'val'])\n",
    "plt.savefig('not-bad-acc-loss.jpeg')"
   ]
  },
  {
   "cell_type": "code",
   "execution_count": null,
   "metadata": {},
   "outputs": [],
   "source": [
    "y_pred_ = dense.predict_classes(X_test, batch_size=32)\n",
    "\n",
    "cm = confusion_matrix(y_test, y_pred_)"
   ]
  },
  {
   "cell_type": "code",
   "execution_count": null,
   "metadata": {},
   "outputs": [],
   "source": []
  },
  {
   "cell_type": "code",
   "execution_count": null,
   "metadata": {},
   "outputs": [],
   "source": []
  },
  {
   "cell_type": "code",
   "execution_count": null,
   "metadata": {},
   "outputs": [],
   "source": []
  }
 ],
 "metadata": {
  "kernelspec": {
   "display_name": "Python 3",
   "language": "python",
   "name": "python3"
  },
  "language_info": {
   "codemirror_mode": {
    "name": "ipython",
    "version": 3
   },
   "file_extension": ".py",
   "mimetype": "text/x-python",
   "name": "python",
   "nbconvert_exporter": "python",
   "pygments_lexer": "ipython3",
   "version": "3.7.6"
  }
 },
 "nbformat": 4,
 "nbformat_minor": 4
}
